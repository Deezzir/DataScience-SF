{
 "cells": [
  {
   "cell_type": "markdown",
   "metadata": {},
   "source": [
    "# Угадай число"
   ]
  },
  {
   "cell_type": "code",
   "execution_count": 11,
   "metadata": {},
   "outputs": [],
   "source": [
    "# Numpy import for the random number generator\n",
    "import numpy as np\n",
    "from numpy import random"
   ]
  },
  {
   "cell_type": "markdown",
   "metadata": {},
   "source": [
    "## Мой подход\n",
    "---\n",
    "Эта функция использует бинарный поиск, чтоб найти загаданное число, который имеет в среднем сложность **O(log2n)**, где n - граница поиска. В данном случае, лимит 100, значит в среднем алгоритм будет делать **6.64** попыток, чтобы угадать число - в теории)"
   ]
  },
  {
   "cell_type": "code",
   "execution_count": 12,
   "metadata": {},
   "outputs": [],
   "source": [
    "def guess(number: int = 1) -> int:\n",
    "    \"\"\" The Function takes the number and using binary search guesses it\n",
    "\n",
    "    Args:\n",
    "        number (int, optional): Number to guess. Defaults to 1.\n",
    "\n",
    "    Returns:\n",
    "        int: Number of guesses it took to guess the given number\n",
    "    \"\"\"\n",
    "    counter = 0     # guess counter\n",
    "    min_num = 1     # the lower bound of the number search\n",
    "    max_num = 101   # the upper bound of the number search\n",
    "\n",
    "    while(True):\n",
    "        counter += 1\n",
    "        middle_num = min_num + (max_num - min_num) // 2  # find the middle\n",
    "        if number > middle_num:  # if number is bigger\n",
    "            min_num = middle_num + 1  # move left bound to the right\n",
    "        elif number < middle_num:  # if number is less\n",
    "            max_num = middle_num - 1  # move right bound to the left\n",
    "        else:  # number found\n",
    "            break\n",
    "    return counter\n"
   ]
  },
  {
   "cell_type": "markdown",
   "metadata": {},
   "source": [
    "## Функция для оценки\n",
    "---\n",
    "Эта функция необходима, чтобы определить, за какое число попыток программа угадывает наше число."
   ]
  },
  {
   "cell_type": "code",
   "execution_count": 13,
   "metadata": {},
   "outputs": [],
   "source": [
    "def score_game(random_predict) -> int:\n",
    "    \"\"\"The function determines the average number of guesses by running the given algorithm 10000 times\n",
    "\n",
    "    Args:\n",
    "        random_predict ([type]): guess function\n",
    "\n",
    "    Returns:\n",
    "        int: average number of guesses\n",
    "    \"\"\"\n",
    "    count_ls = []\n",
    "    # np.random.seed(1)  # fix the random seed\n",
    "    # list with 10000 random number\n",
    "    random_array = np.random.randint(1, 101, size=(10000))\n",
    "\n",
    "    for number in random_array:\n",
    "        # run guess function for each of the number in random_array\n",
    "        count_ls.append(random_predict(number))\n",
    "\n",
    "    score = int(np.mean(count_ls))\n",
    "    print(f\"Your algorithm guesses the number on average in: {score} attempts\")\n"
   ]
  },
  {
   "cell_type": "markdown",
   "metadata": {},
   "source": [
    "### Оценка работы алгоритмa\n",
    "---"
   ]
  },
  {
   "cell_type": "code",
   "execution_count": 14,
   "metadata": {},
   "outputs": [
    {
     "name": "stdout",
     "output_type": "stream",
     "text": [
      "Run benchmarking for guess(): Your algorithm guesses the number on average in: 5 attempts\n"
     ]
    }
   ],
   "source": [
    "#Run benchmarking to score effectiveness of the implemented algorithm \n",
    "print('Run benchmarking for guess(): ', end='')\n",
    "score_game(guess)"
   ]
  },
  {
   "cell_type": "markdown",
   "metadata": {},
   "source": [
    "Программа выдает в среднем 5 попыток с учетом округления "
   ]
  }
 ],
 "metadata": {
  "interpreter": {
   "hash": "005d508735c64ef2549a4285bde8b924c2e8283ea6a839e46d9c1db76ebd1f6a"
  },
  "kernelspec": {
   "display_name": "Python 3.9.7 64-bit ('sf': conda)",
   "language": "python",
   "name": "python3"
  },
  "language_info": {
   "codemirror_mode": {
    "name": "ipython",
    "version": 3
   },
   "file_extension": ".py",
   "mimetype": "text/x-python",
   "name": "python",
   "nbconvert_exporter": "python",
   "pygments_lexer": "ipython3",
   "version": "3.9.7"
  },
  "orig_nbformat": 4
 },
 "nbformat": 4,
 "nbformat_minor": 2
}
